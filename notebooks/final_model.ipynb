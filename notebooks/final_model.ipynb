{
  "cells": [
    {
      "cell_type": "code",
      "execution_count": 1,
      "id": "0c9befd2",
      "metadata": {},
      "outputs": [],
      "source": [
        "# 📦 1. Import Libraries\n",
        "# ====================================================\n",
        "import pandas as pd\n",
        "import numpy as np\n",
        "from catboost import CatBoostRegressor, Pool\n",
        "from sklearn.model_selection import StratifiedKFold\n",
        "from sklearn.metrics import mean_absolute_error\n",
        "import os\n",
        "import tempfile\n",
        "import shutil"
      ]
    },
    {
      "cell_type": "code",
      "execution_count": 2,
      "id": "51530eb6",
      "metadata": {},
      "outputs": [],
      "source": [
        "# 📥 2. Load Datasets\n",
        "# ====================================================\n",
        "NOTEBOOK_DIR = os.getcwd()\n",
        "PROJECT_ROOT = os.path.abspath(os.path.join(NOTEBOOK_DIR, \"..\"))\n",
        "TRAIN_PATH = os.path.join(PROJECT_ROOT, \"data\", \"Train.csv\")\n",
        "TEST_PATH = os.path.join(PROJECT_ROOT, \"data\", \"Test.csv\")\n",
        "\n",
        "train_df = pd.read_csv(TRAIN_PATH)\n",
        "test_df = pd.read_csv(TEST_PATH)\n",
        "test_ids = test_df[\"ID\"]"
      ]
    },
    {
      "cell_type": "code",
      "execution_count": 3,
      "id": "f1db6601",
      "metadata": {},
      "outputs": [],
      "source": [
        "# 🎯 3. Clip + Log Target\n",
        "# ====================================================\n",
        "train_df[\"total_cost\"] = train_df[\"total_cost\"].clip(upper=25000000)\n",
        "train_df[\"log_total_cost\"] = np.log1p(train_df[\"total_cost\"])\n"
      ]
    },
    {
      "cell_type": "code",
      "execution_count": 4,
      "id": "9c213db5",
      "metadata": {},
      "outputs": [],
      "source": [
        "# 🌍 4. Region Mapping\n",
        "# ====================================================\n",
        "region_map = {\n",
        "    'KENYA': 'Africa', 'TANZANIA': 'Africa', 'UGANDA': 'Africa', 'ETHIOPIA': 'Africa',\n",
        "    'UNITED STATES OF AMERICA': 'North America', 'CANADA': 'North America',\n",
        "    'GERMANY': 'Europe', 'FRANCE': 'Europe', 'UNITED KINGDOM': 'Europe', 'ITALY': 'Europe',\n",
        "    'CHINA': 'Asia', 'JAPAN': 'Asia', 'INDIA': 'Asia',\n",
        "}\n",
        "default_region = 'Other'\n"
      ]
    },
    {
      "cell_type": "code",
      "execution_count": 5,
      "id": "aa74ed68",
      "metadata": {},
      "outputs": [],
      "source": [
        "# 🧠 5. Feature Engineering\n",
        "# ====================================================\n",
        "age_map = {'0-24': 1, '25-34': 2, '35-44': 3, '45-54': 4, '55-64': 5, '65+': 6}\n",
        "def engineer_features(df):\n",
        "    df[\"region\"] = df[\"country\"].map(region_map).fillna(default_region)\n",
        "    df[\"total_people\"] = df[\"total_female\"].fillna(0) + df[\"total_male\"].fillna(0)\n",
        "    df[\"total_nights\"] = df[\"night_mainland\"] + df[\"night_zanzibar\"]\n",
        "    df[\"has_spouse\"] = df[\"travel_with\"].apply(lambda x: 1 if x == \"Spouse\" else 0)\n",
        "    df[\"has_children\"] = df[\"travel_with\"].apply(lambda x: 1 if x == \"Children\" else 0)\n",
        "    df[\"people_x_nights\"] = df[\"total_people\"] * df[\"total_nights\"]\n",
        "    df[\"solo_traveler\"] = df[\"total_people\"].apply(lambda x: 1 if x == 1 else 0)\n",
        "    df[\"age_group_num\"] = df[\"age_group\"].map(age_map).fillna(0).astype(int)\n",
        "    df[\"nights_per_person\"] = df[\"total_nights\"] / (df[\"total_people\"] + 1e-6)\n",
        "    df[\"age_x_nights\"] = df[\"total_nights\"] * df[\"age_group_num\"]\n",
        "    df[\"age_per_night\"] = df[\"age_group_num\"] / (df[\"total_nights\"] + 1e-6)\n",
        "    df[\"nights_per_adult\"] = df[\"total_nights\"] / (df[\"total_male\"] + 1e-6)\n",
        "\n",
        "    for col in [\"total_female\", \"total_male\"]:\n",
        "        df[col] = df[col].fillna(0)\n",
        "    for col in df.select_dtypes(include=\"object\").columns:\n",
        "        df[col] = df[col].fillna(df[col].mode()[0])\n",
        "    return df\n",
        "\n",
        "train_df = engineer_features(train_df)\n",
        "test_df = engineer_features(test_df)\n"
      ]
    },
    {
      "cell_type": "code",
      "execution_count": 6,
      "id": "420be357",
      "metadata": {},
      "outputs": [],
      "source": [
        "# 🏷️ 6. Feature Selection\n",
        "# ====================================================\n",
        "features = [\n",
        "    'region', 'age_group', 'travel_with', 'purpose', 'main_activity',\n",
        "    'tour_arrangement', 'package_transport_int', 'package_accomodation', 'package_food',\n",
        "    'package_transport_tz', 'package_sightseeing', 'package_guided_tour',\n",
        "    'package_insurance', 'payment_mode',\n",
        "    'total_female', 'total_male', 'night_mainland', 'night_zanzibar',\n",
        "    'total_people', 'total_nights', 'has_spouse', 'has_children',\n",
        "    'people_x_nights', 'solo_traveler', 'age_group_num',\n",
        "    'nights_per_person', 'age_x_nights', 'age_per_night', 'nights_per_adult'\n",
        "]\n",
        "\n",
        "X = train_df[features]\n",
        "y = train_df[\"log_total_cost\"]\n",
        "X_test = test_df[features]\n",
        "cat_cols = X.select_dtypes(include=[\"object\", \"category\"]).columns.tolist()\n"
      ]
    },
    {
      "cell_type": "code",
      "execution_count": 7,
      "id": "ab4161e4",
      "metadata": {},
      "outputs": [
        {
          "name": "stdout",
          "output_type": "stream",
          "text": [
            "\n",
            "🔁 Fold 1\n",
            "0:\tlearn: 0.6182314\ttest: 0.6190414\tbest: 0.6190414 (0)\ttotal: 169ms\tremaining: 4m 29s\n",
            "100:\tlearn: 0.3369961\ttest: 0.3696353\tbest: 0.3696353 (100)\ttotal: 8.79s\tremaining: 2m 10s\n",
            "200:\tlearn: 0.3018615\ttest: 0.3610993\tbest: 0.3610947 (199)\ttotal: 18s\tremaining: 2m 5s\n",
            "300:\tlearn: 0.2858801\ttest: 0.3609857\tbest: 0.3606643 (215)\ttotal: 28s\tremaining: 2m\n",
            "Stopped by overfitting detector  (100 iterations wait)\n",
            "\n",
            "bestTest = 0.3606643198\n",
            "bestIteration = 215\n",
            "\n",
            "Shrink model to first 216 iterations.\n",
            "✅ Fold 1 MAE: 3370032.03\n",
            "\n",
            "🔁 Fold 2\n",
            "0:\tlearn: 0.6189418\ttest: 0.6146491\tbest: 0.6146491 (0)\ttotal: 55.8ms\tremaining: 1m 29s\n",
            "100:\tlearn: 0.3298405\ttest: 0.3770778\tbest: 0.3770778 (100)\ttotal: 9.12s\tremaining: 2m 15s\n",
            "200:\tlearn: 0.2939622\ttest: 0.3726018\tbest: 0.3725842 (199)\ttotal: 18.1s\tremaining: 2m 6s\n",
            "300:\tlearn: 0.2777172\ttest: 0.3727300\tbest: 0.3722734 (280)\ttotal: 27.4s\tremaining: 1m 58s\n",
            "Stopped by overfitting detector  (100 iterations wait)\n",
            "\n",
            "bestTest = 0.3722733946\n",
            "bestIteration = 280\n",
            "\n",
            "Shrink model to first 281 iterations.\n",
            "✅ Fold 2 MAE: 3471092.56\n",
            "\n",
            "🔁 Fold 3\n",
            "0:\tlearn: 0.6186540\ttest: 0.6152333\tbest: 0.6152333 (0)\ttotal: 113ms\tremaining: 2m 59s\n",
            "100:\tlearn: 0.3324484\ttest: 0.3716627\tbest: 0.3716627 (100)\ttotal: 10.4s\tremaining: 2m 33s\n",
            "200:\tlearn: 0.3011237\ttest: 0.3629601\tbest: 0.3629601 (200)\ttotal: 19.5s\tremaining: 2m 15s\n",
            "300:\tlearn: 0.2880776\ttest: 0.3614216\tbest: 0.3613213 (259)\ttotal: 28.6s\tremaining: 2m 3s\n",
            "400:\tlearn: 0.2765599\ttest: 0.3608788\tbest: 0.3606668 (375)\ttotal: 37.5s\tremaining: 1m 52s\n",
            "Stopped by overfitting detector  (100 iterations wait)\n",
            "\n",
            "bestTest = 0.3606667502\n",
            "bestIteration = 375\n",
            "\n",
            "Shrink model to first 376 iterations.\n",
            "✅ Fold 3 MAE: 3318006.34\n",
            "\n",
            "🔁 Fold 4\n",
            "0:\tlearn: 0.6162528\ttest: 0.6275908\tbest: 0.6275908 (0)\ttotal: 77ms\tremaining: 2m 3s\n",
            "100:\tlearn: 0.3368707\ttest: 0.3632785\tbest: 0.3632785 (100)\ttotal: 8.39s\tremaining: 2m 4s\n",
            "200:\tlearn: 0.3052543\ttest: 0.3528227\tbest: 0.3527582 (196)\ttotal: 17.2s\tremaining: 1m 59s\n",
            "300:\tlearn: 0.2919081\ttest: 0.3512123\tbest: 0.3511000 (295)\ttotal: 25.2s\tremaining: 1m 48s\n",
            "400:\tlearn: 0.2824387\ttest: 0.3507382\tbest: 0.3507382 (400)\ttotal: 33.6s\tremaining: 1m 40s\n",
            "500:\tlearn: 0.2726175\ttest: 0.3502063\tbest: 0.3502063 (500)\ttotal: 42.7s\tremaining: 1m 33s\n",
            "600:\tlearn: 0.2663288\ttest: 0.3504468\tbest: 0.3498493 (551)\ttotal: 52.5s\tremaining: 1m 27s\n",
            "Stopped by overfitting detector  (100 iterations wait)\n",
            "\n",
            "bestTest = 0.3498493125\n",
            "bestIteration = 551\n",
            "\n",
            "Shrink model to first 552 iterations.\n",
            "✅ Fold 4 MAE: 3325668.62\n",
            "\n",
            "🔁 Fold 5\n",
            "0:\tlearn: 0.6186171\ttest: 0.6151677\tbest: 0.6151677 (0)\ttotal: 97.6ms\tremaining: 2m 36s\n",
            "100:\tlearn: 0.3339195\ttest: 0.3704696\tbest: 0.3704696 (100)\ttotal: 9.12s\tremaining: 2m 15s\n",
            "200:\tlearn: 0.2979767\ttest: 0.3619700\tbest: 0.3617550 (195)\ttotal: 18.2s\tremaining: 2m 6s\n",
            "300:\tlearn: 0.2825601\ttest: 0.3608960\tbest: 0.3608429 (286)\ttotal: 27.1s\tremaining: 1m 57s\n",
            "400:\tlearn: 0.2688512\ttest: 0.3599234\tbest: 0.3599140 (399)\ttotal: 36.5s\tremaining: 1m 49s\n",
            "500:\tlearn: 0.2604436\ttest: 0.3595046\tbest: 0.3594556 (482)\ttotal: 45.6s\tremaining: 1m 40s\n",
            "600:\tlearn: 0.2537839\ttest: 0.3599849\tbest: 0.3594219 (501)\ttotal: 55.3s\tremaining: 1m 31s\n",
            "Stopped by overfitting detector  (100 iterations wait)\n",
            "\n",
            "bestTest = 0.3594218748\n",
            "bestIteration = 501\n",
            "\n",
            "Shrink model to first 502 iterations.\n",
            "✅ Fold 5 MAE: 3486487.94\n"
          ]
        }
      ],
      "source": [
        "# 🧪 7. Stratified K-Fold Training\n",
        "# ====================================================\n",
        "train_df[\"cost_bin\"] = pd.qcut(train_df[\"total_cost\"], 5, labels=False)\n",
        "kf = StratifiedKFold(n_splits=5, shuffle=True, random_state=42)\n",
        "\n",
        "val_maes = []\n",
        "fold_preds = []\n",
        "\n",
        "for fold, (train_idx, val_idx) in enumerate(kf.split(X, train_df[\"cost_bin\"])):\n",
        "    print(f\"\\n🔁 Fold {fold+1}\")\n",
        "    X_train, X_val = X.iloc[train_idx], X.iloc[val_idx]\n",
        "    y_train, y_val = y.iloc[train_idx], y.iloc[val_idx]\n",
        "\n",
        "    train_pool = Pool(X_train, y_train, cat_features=cat_cols)\n",
        "    val_pool = Pool(X_val, y_val, cat_features=cat_cols)\n",
        "    test_pool = Pool(X_test, cat_features=cat_cols)\n",
        "\n",
        "    tmp_dir = tempfile.mkdtemp()\n",
        "    model = CatBoostRegressor(\n",
        "        iterations=1600,\n",
        "        learning_rate=0.025,\n",
        "        depth=9,\n",
        "        l2_leaf_reg=4,\n",
        "        subsample=0.85,\n",
        "        random_seed=42 + fold,\n",
        "        loss_function='Quantile:alpha=0.6',\n",
        "        early_stopping_rounds=100,\n",
        "        verbose=100,\n",
        "        train_dir=tmp_dir\n",
        "    )\n",
        "    model.fit(train_pool, eval_set=val_pool)\n",
        "    shutil.rmtree(tmp_dir, ignore_errors=True)\n",
        "\n",
        "    val_preds = np.expm1(model.predict(val_pool))\n",
        "    fold_preds.append(np.expm1(model.predict(test_pool)))\n",
        "    y_val_exp = np.expm1(y_val)\n",
        "    mae = mean_absolute_error(y_val_exp, val_preds)\n",
        "    print(f\"✅ Fold {fold+1} MAE: {mae:.2f}\")\n",
        "    val_maes.append(mae)\n"
      ]
    },
    {
      "cell_type": "code",
      "execution_count": 8,
      "id": "739c24d5",
      "metadata": {},
      "outputs": [
        {
          "name": "stdout",
          "output_type": "stream",
          "text": [
            "\n",
            "✅ Average Validation MAE (5-Fold): 3394257.50\n"
          ]
        }
      ],
      "source": [
        "# 🧠 8. Ensemble\n",
        "# ====================================================\n",
        "avg_mae = np.mean(val_maes)\n",
        "print(f\"\\n✅ Average Validation MAE (5-Fold): {avg_mae:.2f}\")\n",
        "final_preds = np.mean(fold_preds, axis=0)\n",
        "final_preds = np.clip(final_preds, 50000, 25000000)\n"
      ]
    },
    {
      "cell_type": "code",
      "execution_count": 9,
      "id": "f0fb4bed",
      "metadata": {},
      "outputs": [
        {
          "name": "stdout",
          "output_type": "stream",
          "text": [
            "✅ submission.csv saved to ../submission/\n"
          ]
        }
      ],
      "source": [
        "# 💾 9. Save Submission\n",
        "# ====================================================\n",
        "output_path = os.path.join(\"..\", \"submission\")\n",
        "os.makedirs(output_path, exist_ok=True)\n",
        "\n",
        "submission = pd.DataFrame({\n",
        "    \"ID\": test_ids,\n",
        "    \"total_cost\": final_preds\n",
        "})\n",
        "submission.to_csv(os.path.join(output_path, \"submission.csv\"), index=False)\n",
        "print(\"✅ submission.csv saved to ../submission/\")  "
      ]
    }
  ],
  "metadata": {
    "kernelspec": {
      "display_name": "Python 3",
      "language": "python",
      "name": "python3"
    },
    "language_info": {
      "codemirror_mode": {
        "name": "ipython",
        "version": 3
      },
      "file_extension": ".py",
      "mimetype": "text/x-python",
      "name": "python",
      "nbconvert_exporter": "python",
      "pygments_lexer": "ipython3",
      "version": "3.10.11"
    }
  },
  "nbformat": 4,
  "nbformat_minor": 5
}
