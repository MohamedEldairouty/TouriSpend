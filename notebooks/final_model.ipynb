{
  "cells": [
    {
      "cell_type": "code",
      "execution_count": 12,
      "id": "0c9befd2",
      "metadata": {},
      "outputs": [],
      "source": [
        "# 📦 1. Import Libraries\n",
        "import pandas as pd\n",
        "import numpy as np\n",
        "from catboost import CatBoostRegressor, Pool\n",
        "from sklearn.model_selection import StratifiedKFold\n",
        "from sklearn.metrics import mean_absolute_error\n",
        "import os\n",
        "import tempfile\n",
        "import shutil"
      ]
    },
    {
      "cell_type": "code",
      "execution_count": 13,
      "id": "cf1c7043",
      "metadata": {},
      "outputs": [],
      "source": [
        "# 📥 2. Load Datasets\n",
        "NOTEBOOK_DIR = os.getcwd()\n",
        "PROJECT_ROOT = os.path.abspath(os.path.join(NOTEBOOK_DIR, \"..\"))\n",
        "TRAIN_PATH = os.path.join(PROJECT_ROOT, \"data\", \"Train.csv\")\n",
        "TEST_PATH = os.path.join(PROJECT_ROOT, \"data\", \"Test.csv\")\n",
        "\n",
        "train_df = pd.read_csv(TRAIN_PATH)\n",
        "test_df = pd.read_csv(TEST_PATH)\n",
        "test_ids = test_df[\"ID\"]"
      ]
    },
    {
      "cell_type": "code",
      "execution_count": 14,
      "id": "70e3db51",
      "metadata": {},
      "outputs": [],
      "source": [
        "# 🎯 3. Clip + Log Target\n",
        "train_df[\"total_cost\"] = train_df[\"total_cost\"].clip(upper=25000000)\n",
        "train_df[\"log_total_cost\"] = np.log1p(train_df[\"total_cost\"])"
      ]
    },
    {
      "cell_type": "code",
      "execution_count": 15,
      "id": "834f1ba9",
      "metadata": {},
      "outputs": [],
      "source": [
        "# 🌍 4. Region Mapping\n",
        "region_map = {\n",
        "    'KENYA': 'Africa', 'TANZANIA': 'Africa', 'UGANDA': 'Africa', 'ETHIOPIA': 'Africa',\n",
        "    'UNITED STATES OF AMERICA': 'North America', 'CANADA': 'North America',\n",
        "    'GERMANY': 'Europe', 'FRANCE': 'Europe', 'UNITED KINGDOM': 'Europe', 'ITALY': 'Europe',\n",
        "    'CHINA': 'Asia', 'JAPAN': 'Asia', 'INDIA': 'Asia',\n",
        "}\n",
        "default_region = 'Other'"
      ]
    },
    {
      "cell_type": "code",
      "execution_count": 16,
      "id": "228dbba4",
      "metadata": {},
      "outputs": [],
      "source": [
        "# 🧠 5. Feature Engineering\n",
        "age_map = {'0-24': 1, '25-34': 2, '35-44': 3, '45-54': 4, '55-64': 5, '65+': 6}\n",
        "def engineer_features(df):\n",
        "    df[\"region\"] = df[\"country\"].map(region_map).fillna(default_region)\n",
        "    df[\"total_people\"] = df[\"total_female\"].fillna(0) + df[\"total_male\"].fillna(0)\n",
        "    df[\"total_nights\"] = df[\"night_mainland\"] + df[\"night_zanzibar\"]\n",
        "    df[\"has_spouse\"] = df[\"travel_with\"].apply(lambda x: 1 if x == \"Spouse\" else 0)\n",
        "    df[\"has_children\"] = df[\"travel_with\"].apply(lambda x: 1 if x == \"Children\" else 0)\n",
        "    df[\"people_x_nights\"] = df[\"total_people\"] * df[\"total_nights\"]\n",
        "    df[\"solo_traveler\"] = df[\"total_people\"].apply(lambda x: 1 if x == 1 else 0)\n",
        "    df[\"age_group_num\"] = df[\"age_group\"].map(age_map).fillna(0).astype(int)\n",
        "    df[\"people_x_mainland\"] = df[\"total_people\"] * df[\"night_mainland\"]\n",
        "    df[\"people_x_zanzibar\"] = df[\"total_people\"] * df[\"night_zanzibar\"]\n",
        "    df[\"nights_per_person\"] = df[\"total_nights\"] / (df[\"total_people\"] + 1e-6)\n",
        "\n",
        "    for col in [\"total_female\", \"total_male\"]:\n",
        "        df[col] = df[col].fillna(0)\n",
        "    for col in df.select_dtypes(include=\"object\").columns:\n",
        "        df[col] = df[col].fillna(df[col].mode()[0])\n",
        "    return df\n",
        "\n",
        "train_df = engineer_features(train_df)\n",
        "test_df = engineer_features(test_df)\n"
      ]
    },
    {
      "cell_type": "code",
      "execution_count": 17,
      "id": "c9cd857d",
      "metadata": {},
      "outputs": [],
      "source": [
        "# 🏷️ 6. Feature Selection\n",
        "features = [\n",
        "    'region', 'age_group', 'travel_with', 'purpose', 'main_activity',\n",
        "    'tour_arrangement', 'package_transport_int', 'package_accomodation', 'package_food',\n",
        "    'package_transport_tz', 'package_sightseeing', 'package_guided_tour',\n",
        "    'package_insurance', 'payment_mode',\n",
        "    'total_female', 'total_male', 'night_mainland', 'night_zanzibar',\n",
        "    'total_people', 'total_nights', 'has_spouse', 'has_children',\n",
        "    'people_x_nights', 'solo_traveler', 'age_group_num',\n",
        "    'nights_per_person', 'people_x_mainland', 'people_x_zanzibar'\n",
        "]\n",
        "\n",
        "X = train_df[features]\n",
        "y = train_df[\"log_total_cost\"]\n",
        "X_test = test_df[features]\n",
        "cat_cols = X.select_dtypes(include=[\"object\", \"category\"]).columns.tolist()"
      ]
    },
    {
      "cell_type": "code",
      "execution_count": 18,
      "id": "c79fa484",
      "metadata": {},
      "outputs": [
        {
          "name": "stdout",
          "output_type": "stream",
          "text": [
            "\n",
            "🔁 Fold 1\n",
            "0:\tlearn: 0.6186626\ttest: 0.6191914\tbest: 0.6191914 (0)\ttotal: 77.3ms\tremaining: 2m 11s\n",
            "100:\tlearn: 0.3389830\ttest: 0.3705731\tbest: 0.3705731 (100)\ttotal: 7.58s\tremaining: 2m\n",
            "200:\tlearn: 0.3033332\ttest: 0.3607739\tbest: 0.3607739 (200)\ttotal: 15.2s\tremaining: 1m 53s\n",
            "300:\tlearn: 0.2890309\ttest: 0.3599224\tbest: 0.3596126 (277)\ttotal: 22.5s\tremaining: 1m 44s\n",
            "Stopped by overfitting detector  (100 iterations wait)\n",
            "\n",
            "bestTest = 0.3596125674\n",
            "bestIteration = 277\n",
            "\n",
            "Shrink model to first 278 iterations.\n",
            "✅ Fold 1 MAE: 3374604.04\n",
            "\n",
            "🔁 Fold 2\n",
            "0:\tlearn: 0.6191642\ttest: 0.6149150\tbest: 0.6149150 (0)\ttotal: 53.2ms\tremaining: 1m 30s\n",
            "100:\tlearn: 0.3320227\ttest: 0.3795088\tbest: 0.3795088 (100)\ttotal: 8.84s\tremaining: 2m 20s\n",
            "200:\tlearn: 0.2962688\ttest: 0.3740415\tbest: 0.3740415 (200)\ttotal: 16.7s\tremaining: 2m 4s\n",
            "300:\tlearn: 0.2798927\ttest: 0.3734571\tbest: 0.3734571 (300)\ttotal: 24.5s\tremaining: 1m 53s\n",
            "400:\tlearn: 0.2666621\ttest: 0.3740414\tbest: 0.3733348 (325)\ttotal: 32.1s\tremaining: 1m 44s\n",
            "Stopped by overfitting detector  (100 iterations wait)\n",
            "\n",
            "bestTest = 0.3733348213\n",
            "bestIteration = 325\n",
            "\n",
            "Shrink model to first 326 iterations.\n",
            "✅ Fold 2 MAE: 3459746.03\n",
            "\n",
            "🔁 Fold 3\n",
            "0:\tlearn: 0.6198334\ttest: 0.6161956\tbest: 0.6161956 (0)\ttotal: 58.6ms\tremaining: 1m 39s\n",
            "100:\tlearn: 0.3368037\ttest: 0.3723095\tbest: 0.3723095 (100)\ttotal: 7.4s\tremaining: 1m 57s\n",
            "200:\tlearn: 0.3038938\ttest: 0.3610512\tbest: 0.3610512 (200)\ttotal: 15.3s\tremaining: 1m 53s\n",
            "300:\tlearn: 0.2907388\ttest: 0.3584611\tbest: 0.3584611 (300)\ttotal: 22.4s\tremaining: 1m 43s\n",
            "400:\tlearn: 0.2807351\ttest: 0.3576387\tbest: 0.3575717 (389)\ttotal: 30.4s\tremaining: 1m 38s\n",
            "500:\tlearn: 0.2717079\ttest: 0.3574708\tbest: 0.3574708 (500)\ttotal: 38.4s\tremaining: 1m 31s\n",
            "600:\tlearn: 0.2639157\ttest: 0.3571587\tbest: 0.3570801 (583)\ttotal: 46.4s\tremaining: 1m 24s\n",
            "Stopped by overfitting detector  (100 iterations wait)\n",
            "\n",
            "bestTest = 0.3570801232\n",
            "bestIteration = 583\n",
            "\n",
            "Shrink model to first 584 iterations.\n",
            "✅ Fold 3 MAE: 3290237.39\n",
            "\n",
            "🔁 Fold 4\n",
            "0:\tlearn: 0.6169103\ttest: 0.6280532\tbest: 0.6280532 (0)\ttotal: 34.2ms\tremaining: 58.1s\n",
            "100:\tlearn: 0.3401360\ttest: 0.3643931\tbest: 0.3643931 (100)\ttotal: 7.27s\tremaining: 1m 55s\n",
            "200:\tlearn: 0.3071503\ttest: 0.3521282\tbest: 0.3521233 (197)\ttotal: 14.5s\tremaining: 1m 48s\n",
            "300:\tlearn: 0.2922089\ttest: 0.3506576\tbest: 0.3506576 (300)\ttotal: 21.7s\tremaining: 1m 40s\n",
            "400:\tlearn: 0.2829797\ttest: 0.3506008\tbest: 0.3504392 (338)\ttotal: 29.1s\tremaining: 1m 34s\n",
            "500:\tlearn: 0.2749324\ttest: 0.3510315\tbest: 0.3503225 (413)\ttotal: 36.9s\tremaining: 1m 28s\n",
            "Stopped by overfitting detector  (100 iterations wait)\n",
            "\n",
            "bestTest = 0.3503224953\n",
            "bestIteration = 413\n",
            "\n",
            "Shrink model to first 414 iterations.\n",
            "✅ Fold 4 MAE: 3350423.34\n",
            "\n",
            "🔁 Fold 5\n",
            "0:\tlearn: 0.6198970\ttest: 0.6161656\tbest: 0.6161656 (0)\ttotal: 42.2ms\tremaining: 1m 11s\n",
            "100:\tlearn: 0.3390568\ttest: 0.3744004\tbest: 0.3744004 (100)\ttotal: 7.62s\tremaining: 2m\n",
            "200:\tlearn: 0.3027805\ttest: 0.3639938\tbest: 0.3639612 (197)\ttotal: 15.3s\tremaining: 1m 54s\n",
            "300:\tlearn: 0.2849416\ttest: 0.3632370\tbest: 0.3631160 (270)\ttotal: 22.8s\tremaining: 1m 46s\n",
            "400:\tlearn: 0.2730336\ttest: 0.3624761\tbest: 0.3624328 (399)\ttotal: 30.2s\tremaining: 1m 37s\n",
            "500:\tlearn: 0.2648873\ttest: 0.3625031\tbest: 0.3623211 (469)\ttotal: 37.8s\tremaining: 1m 30s\n",
            "600:\tlearn: 0.2566771\ttest: 0.3630363\tbest: 0.3622356 (516)\ttotal: 45.3s\tremaining: 1m 22s\n",
            "Stopped by overfitting detector  (100 iterations wait)\n",
            "\n",
            "bestTest = 0.3622356284\n",
            "bestIteration = 516\n",
            "\n",
            "Shrink model to first 517 iterations.\n",
            "✅ Fold 5 MAE: 3510706.83\n"
          ]
        }
      ],
      "source": [
        "# 🧪 7. Stratified K-Fold Training\n",
        "train_df[\"cost_bin\"] = pd.qcut(train_df[\"total_cost\"], 5, labels=False)\n",
        "kf = StratifiedKFold(n_splits=5, shuffle=True, random_state=42)\n",
        "\n",
        "val_maes = []\n",
        "fold_preds = []\n",
        "\n",
        "for fold, (train_idx, val_idx) in enumerate(kf.split(X, train_df[\"cost_bin\"])):\n",
        "    print(f\"\\n🔁 Fold {fold+1}\")\n",
        "    X_train, X_val = X.iloc[train_idx], X.iloc[val_idx]\n",
        "    y_train, y_val = y.iloc[train_idx], y.iloc[val_idx]\n",
        "\n",
        "    train_pool = Pool(X_train, y_train, cat_features=cat_cols)\n",
        "    val_pool = Pool(X_val, y_val, cat_features=cat_cols)\n",
        "    test_pool = Pool(X_test, cat_features=cat_cols)\n",
        "\n",
        "    tmp_dir = tempfile.mkdtemp()\n",
        "    model = CatBoostRegressor(\n",
        "        iterations=1700,\n",
        "        learning_rate=0.024,\n",
        "        depth=9,\n",
        "        l2_leaf_reg=7,\n",
        "        subsample=0.83,\n",
        "        random_seed=42 + fold,\n",
        "        loss_function='Quantile:alpha=0.6',\n",
        "        early_stopping_rounds=100,\n",
        "        verbose=100,\n",
        "        train_dir=tmp_dir\n",
        "    )\n",
        "    model.fit(train_pool, eval_set=val_pool)\n",
        "    shutil.rmtree(tmp_dir, ignore_errors=True)\n",
        "\n",
        "    val_preds = np.expm1(model.predict(val_pool))\n",
        "    fold_preds.append(np.expm1(model.predict(test_pool)))\n",
        "    y_val_exp = np.expm1(y_val)\n",
        "    mae = mean_absolute_error(y_val_exp, val_preds)\n",
        "    print(f\"✅ Fold {fold+1} MAE: {mae:.2f}\")\n",
        "    val_maes.append(mae)"
      ]
    },
    {
      "cell_type": "code",
      "execution_count": 19,
      "id": "4c004479",
      "metadata": {},
      "outputs": [
        {
          "name": "stdout",
          "output_type": "stream",
          "text": [
            "\n",
            "✅ Average Validation MAE (5-Fold): 3397143.52\n"
          ]
        }
      ],
      "source": [
        "# 🧠 8. Ensemble\n",
        "avg_mae = np.mean(val_maes)\n",
        "print(f\"\\n✅ Average Validation MAE (5-Fold): {avg_mae:.2f}\")\n",
        "final_preds = np.mean(fold_preds, axis=0)\n",
        "final_preds = np.clip(final_preds, 50000, 25000000)"
      ]
    },
    {
      "cell_type": "code",
      "execution_count": 20,
      "id": "acaf1352",
      "metadata": {},
      "outputs": [
        {
          "name": "stdout",
          "output_type": "stream",
          "text": [
            "✅ submission.csv saved to ../submission/\n"
          ]
        }
      ],
      "source": [
        "# 💾 9. Save Submission\n",
        "output_path = os.path.join(\"..\", \"submission\")\n",
        "os.makedirs(output_path, exist_ok=True)\n",
        "\n",
        "submission = pd.DataFrame({\n",
        "    \"ID\": test_ids,\n",
        "    \"total_cost\": final_preds\n",
        "})\n",
        "submission.to_csv(os.path.join(output_path, \"submission.csv\"), index=False)\n",
        "print(\"✅ submission.csv saved to ../submission/\")"
      ]
    }
  ],
  "metadata": {
    "kernelspec": {
      "display_name": "Python 3",
      "language": "python",
      "name": "python3"
    },
    "language_info": {
      "codemirror_mode": {
        "name": "ipython",
        "version": 3
      },
      "file_extension": ".py",
      "mimetype": "text/x-python",
      "name": "python",
      "nbconvert_exporter": "python",
      "pygments_lexer": "ipython3",
      "version": "3.10.11"
    }
  },
  "nbformat": 4,
  "nbformat_minor": 5
}
