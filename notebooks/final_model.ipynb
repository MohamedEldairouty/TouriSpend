{
  "cells": [
    {
      "cell_type": "code",
      "execution_count": 1,
      "id": "0c9befd2",
      "metadata": {},
      "outputs": [],
      "source": [
        "# 📦 1. Import Libraries\n",
        "# ====================================================\n",
        "import pandas as pd\n",
        "import numpy as np\n",
        "from catboost import CatBoostRegressor, Pool\n",
        "from sklearn.model_selection import train_test_split\n",
        "from sklearn.metrics import mean_absolute_error\n",
        "import os\n",
        "import tempfile\n",
        "import shutil"
      ]
    },
    {
      "cell_type": "code",
      "execution_count": 2,
      "id": "51530eb6",
      "metadata": {},
      "outputs": [],
      "source": [
        "# 📥 2. Load Datasets\n",
        "# ====================================================\n",
        "# Paths to data\n",
        "NOTEBOOK_DIR = os.getcwd()\n",
        "PROJECT_ROOT = os.path.abspath(os.path.join(NOTEBOOK_DIR, \"..\"))\n",
        "TRAIN_PATH = os.path.join(PROJECT_ROOT, \"data\", \"Train.csv\")\n",
        "TEST_PATH = os.path.join(PROJECT_ROOT, \"data\", \"Test.csv\")\n",
        "\n",
        "# Load data\n",
        "train_df = pd.read_csv(TRAIN_PATH)\n",
        "test_df = pd.read_csv(TEST_PATH)\n",
        "\n",
        "test_ids = test_df[\"ID\"]"
      ]
    },
    {
      "cell_type": "code",
      "execution_count": 3,
      "id": "d598c871",
      "metadata": {},
      "outputs": [],
      "source": [
        "# 🎯 3. Target Transformation (clip + log1p)\n",
        "# ====================================================\n",
        "train_df[\"total_cost\"] = train_df[\"total_cost\"].clip(upper=25000000)\n",
        "train_df[\"log_total_cost\"] = np.log1p(train_df[\"total_cost\"])"
      ]
    },
    {
      "cell_type": "code",
      "execution_count": 4,
      "id": "30f5c07d",
      "metadata": {},
      "outputs": [],
      "source": [
        "# 🌍 4. Region Mapping for Country Column\n",
        "# ====================================================\n",
        "region_map = {\n",
        "    'KENYA': 'Africa', 'TANZANIA': 'Africa', 'UGANDA': 'Africa', 'ETHIOPIA': 'Africa',\n",
        "    'UNITED STATES OF AMERICA': 'North America', 'CANADA': 'North America',\n",
        "    'GERMANY': 'Europe', 'FRANCE': 'Europe', 'UNITED KINGDOM': 'Europe', 'ITALY': 'Europe',\n",
        "    'CHINA': 'Asia', 'JAPAN': 'Asia', 'INDIA': 'Asia',\n",
        "}\n",
        "default_region = 'Other'"
      ]
    },
    {
      "cell_type": "code",
      "execution_count": 5,
      "id": "962cf80b",
      "metadata": {},
      "outputs": [],
      "source": [
        "# 🧠 5. Feature Engineering Function\n",
        "# ====================================================\n",
        "def engineer_features(df):\n",
        "    df[\"region\"] = df[\"country\"].map(region_map).fillna(default_region)\n",
        "    df[\"total_people\"] = df[\"total_female\"].fillna(0) + df[\"total_male\"].fillna(0)\n",
        "    df[\"total_nights\"] = df[\"night_mainland\"] + df[\"night_zanzibar\"]\n",
        "    df[\"has_spouse\"] = df[\"travel_with\"].apply(lambda x: 1 if x == \"Spouse\" else 0)\n",
        "    df[\"people_x_nights\"] = df[\"total_people\"] * df[\"total_nights\"]\n",
        "    df[\"mainland_ratio\"] = df[\"night_mainland\"] / (df[\"total_nights\"] + 1e-6)\n",
        "    df[\"is_luxury_trip\"] = df[\"main_activity\"].apply(lambda x: 1 if x in [\"Wildlife tourism\", \"Beach tourism\"] else 0)\n",
        "    df[\"is_family_trip\"] = df[\"travel_with\"].apply(lambda x: 1 if x in [\"Spouse\", \"Children\"] else 0)\n",
        "    df[\"purpose_x_activity\"] = df[\"purpose\"] + \"_\" + df[\"main_activity\"]\n",
        "\n",
        "    for col in [\"total_female\", \"total_male\"]:\n",
        "        df[col] = df[col].fillna(0)\n",
        "    for col in df.select_dtypes(include=\"object\").columns:\n",
        "        df[col] = df[col].fillna(df[col].mode()[0])\n",
        "    \n",
        "    return df\n",
        "\n",
        "# Apply feature engineering\n",
        "train_df = engineer_features(train_df)\n",
        "test_df = engineer_features(test_df)"
      ]
    },
    {
      "cell_type": "code",
      "execution_count": 6,
      "id": "d15ebc85",
      "metadata": {},
      "outputs": [],
      "source": [
        "# 🏷️ 6. Feature Selection\n",
        "# ====================================================\n",
        "features = [\n",
        "    'region', 'age_group', 'travel_with', 'purpose', 'main_activity', 'info_source',\n",
        "    'tour_arrangement', 'package_transport_int', 'package_accomodation', 'package_food',\n",
        "    'package_transport_tz', 'package_sightseeing', 'package_guided_tour',\n",
        "    'package_insurance', 'payment_mode', 'first_trip_tz', 'most_impressing',\n",
        "    'total_female', 'total_male', 'night_mainland', 'night_zanzibar',\n",
        "    'total_people', 'total_nights', 'has_spouse', 'people_x_nights',\n",
        "    'mainland_ratio', 'is_luxury_trip', 'is_family_trip', 'purpose_x_activity'\n",
        "]\n",
        "\n",
        "X = train_df[features]\n",
        "y = train_df[\"log_total_cost\"]\n",
        "X_test = test_df[features]\n",
        "cat_cols = X.select_dtypes(include=\"object\").columns.tolist()\n",
        "\n"
      ]
    },
    {
      "cell_type": "code",
      "execution_count": 7,
      "id": "9771a006",
      "metadata": {},
      "outputs": [],
      "source": [
        "# 🧪 7. Train/Validation Split\n",
        "# ====================================================\n",
        "X_train, X_val, y_train, y_val = train_test_split(X, y, test_size=0.2, random_state=42)\n",
        "\n",
        "train_pool = Pool(X_train, y_train, cat_features=cat_cols)\n",
        "val_pool = Pool(X_val, y_val, cat_features=cat_cols)\n",
        "test_pool = Pool(X_test, cat_features=cat_cols)"
      ]
    },
    {
      "cell_type": "code",
      "execution_count": 8,
      "id": "d9a3099b",
      "metadata": {},
      "outputs": [
        {
          "name": "stdout",
          "output_type": "stream",
          "text": [
            "0:\tlearn: 0.6663278\ttest: 0.6528042\tbest: 0.6528042 (0)\ttotal: 228ms\tremaining: 5m 42s\n",
            "100:\tlearn: 0.3207369\ttest: 0.3946342\tbest: 0.3946342 (100)\ttotal: 8.32s\tremaining: 1m 55s\n",
            "200:\tlearn: 0.2737341\ttest: 0.3897525\tbest: 0.3897164 (195)\ttotal: 16.3s\tremaining: 1m 45s\n",
            "300:\tlearn: 0.2444943\ttest: 0.3895439\tbest: 0.3893289 (294)\ttotal: 24.4s\tremaining: 1m 37s\n",
            "Stopped by overfitting detector  (75 iterations wait)\n",
            "\n",
            "bestTest = 0.3893288575\n",
            "bestIteration = 294\n",
            "\n",
            "Shrink model to first 295 iterations.\n"
          ]
        }
      ],
      "source": [
        "# 🧠 8. Train CatBoost Model \n",
        "# ====================================================\n",
        "tmp_dir = tempfile.mkdtemp() # To Disable Logs\n",
        "\n",
        "model = CatBoostRegressor(\n",
        "    iterations=1500,\n",
        "    learning_rate=0.03,\n",
        "    depth=10,\n",
        "    l2_leaf_reg=5,\n",
        "    subsample=0.9,\n",
        "    random_seed=42,\n",
        "    loss_function='Quantile:alpha=0.5',\n",
        "    early_stopping_rounds=75,\n",
        "    verbose=100,\n",
        "    train_dir=tmp_dir \n",
        ")\n",
        "model.fit(train_pool, eval_set=val_pool)\n",
        "shutil.rmtree(tmp_dir, ignore_errors=True)\n"
      ]
    },
    {
      "cell_type": "code",
      "execution_count": 9,
      "id": "6fdbba62",
      "metadata": {},
      "outputs": [
        {
          "name": "stdout",
          "output_type": "stream",
          "text": [
            "✅ Final Validation MAE: 3312868.38\n"
          ]
        }
      ],
      "source": [
        "# 📊 9. Validation Score (MAE)\n",
        "# ====================================================\n",
        "val_preds_log = model.predict(val_pool)\n",
        "val_preds = np.expm1(val_preds_log)\n",
        "y_val_exp = np.expm1(y_val)\n",
        "mae = mean_absolute_error(y_val_exp, val_preds)\n",
        "print(f\"✅ Final Validation MAE: {mae:.2f}\")"
      ]
    },
    {
      "cell_type": "code",
      "execution_count": 10,
      "id": "b6fe16dc",
      "metadata": {},
      "outputs": [],
      "source": [
        "# 📤 10. Final Test Prediction + Clipping\n",
        "# ====================================================\n",
        "test_preds_log = model.predict(test_pool)\n",
        "test_preds = np.expm1(test_preds_log)\n",
        "final_preds = np.clip(test_preds, 50000, 25000000)"
      ]
    },
    {
      "cell_type": "code",
      "execution_count": 12,
      "id": "0ecb9b2a",
      "metadata": {},
      "outputs": [
        {
          "name": "stdout",
          "output_type": "stream",
          "text": [
            "✅ Submission.csv saved.\n"
          ]
        }
      ],
      "source": [
        "# 💾 11. Generate Submission File\n",
        "# ====================================================\n",
        "\n",
        "# Go inside submission/\n",
        "output_path = os.path.join(\"..\", \"submission\")\n",
        "os.makedirs(output_path, exist_ok=True)\n",
        "\n",
        "# Save the file in ../submission/submission.csv\n",
        "submission = pd.DataFrame({\n",
        "    \"ID\": test_ids,\n",
        "    \"total_cost\": final_preds\n",
        "})\n",
        "submission.to_csv(os.path.join(output_path, \"submission.csv\"), index=False)\n",
        "print(\"✅ Submission.csv saved.\")\n"
      ]
    }
  ],
  "metadata": {
    "kernelspec": {
      "display_name": "Python 3",
      "language": "python",
      "name": "python3"
    },
    "language_info": {
      "codemirror_mode": {
        "name": "ipython",
        "version": 3
      },
      "file_extension": ".py",
      "mimetype": "text/x-python",
      "name": "python",
      "nbconvert_exporter": "python",
      "pygments_lexer": "ipython3",
      "version": "3.10.11"
    }
  },
  "nbformat": 4,
  "nbformat_minor": 5
}
